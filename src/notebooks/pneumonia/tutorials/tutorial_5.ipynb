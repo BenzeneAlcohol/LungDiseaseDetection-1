{
  "nbformat": 4,
  "nbformat_minor": 0,
  "metadata": {
    "colab": {
      "name": "tutorial_6.ipynb",
      "provenance": []
    },
    "kernelspec": {
      "name": "python3",
      "display_name": "Python 3"
    },
    "language_info": {
      "name": "python"
    }
  },
  "cells": [
    {
      "cell_type": "markdown",
      "source": [
        "# ResNet from Scratch.\n",
        "Addition of more and more layers to a network would result in saturation in accuracy and then the accuracy also starts decreasing. ResNets have been very useful in this case. They have skip-connections between alternate layers. One block of such a connection is called as a residual block. This allows us to feed activations from one layer to the deeper layers without the problem of vanishing gradients. \n",
        "\n",
        "The architecture of ResNet-34:\n",
        "* First layer is a convolutional layer with kernel of 7x7 and 64 filters. This is folowed by a max pooling layer. \n",
        "* After that there are several layers (in pairs because of the skip connections) with 3x3 kernel size and different number of filters (64, 128, 256, 512).\n",
        "* Finally, there is average pooling and the softmax function.\n",
        "\n",
        "You have to code ResNet from scratch.\n",
        "\n",
        "References:\n",
        "\n",
        "[Resnet orininal paper.](https://arxiv.org/abs/1512.03385)\n",
        "\n",
        "[Resnet architecture](https://towardsdatascience.com/understand-and-implement-resnet-50-with-tensorflow-2-0-1190b9b52691)\n"
      ],
      "metadata": {
        "id": "sZ5p9QeE0uEg"
      }
    },
    {
      "cell_type": "markdown",
      "source": [
        "# MobileNet Pre-trained\n",
        "In the last tutorial, transfer learning was introduced. We will now learn how to implement MobileNet using transfer learning.\n",
        "\n",
        "Referneces:\n",
        "[Transfer Learning](https://keras.io/guides/transfer_learning/)"
      ],
      "metadata": {
        "id": "pj1ABoks7zCN"
      }
    },
    {
      "cell_type": "code",
      "source": [
        "import tensorflow\n",
        "\n",
        "base_model = tensorflow.keras.applications.MobileNet(weights='imagenet',input_shape=(224, 224, 3),include_top=False\n",
        ")\n",
        "\n",
        "base_model.trainable = False\n",
        "\n",
        "input = tensorflow.keras.Input(shape=(224, 224, 3))\n",
        "x = base_model(input, training=False)\n",
        "x = tensorflow.keras.layers.GlobalAveragePooling2D()(x)\n",
        "\n",
        "output = tensorflow.keras.layers.Dense(1)(x)\n",
        "\n",
        "model = tensorflow.keras.Model(input, output)\n",
        "\n",
        "model.compile(optimizer='adam',\n",
        "             loss='binary_crossentropy',\n",
        "             metrics=['accuracy'])\n",
        "\n",
        "model.summary()\n",
        "\n"
      ],
      "metadata": {
        "colab": {
          "base_uri": "https://localhost:8080/"
        },
        "id": "KNmZzajA9gJV",
        "outputId": "29119f50-2920-4a4a-8abb-6de348bc7b0d"
      },
      "execution_count": null,
      "outputs": [
        {
          "output_type": "stream",
          "name": "stdout",
          "text": [
            "Model: \"model_1\"\n",
            "_________________________________________________________________\n",
            " Layer (type)                Output Shape              Param #   \n",
            "=================================================================\n",
            " input_4 (InputLayer)        [(None, 224, 224, 3)]     0         \n",
            "                                                                 \n",
            " mobilenet_1.00_224 (Functio  (None, 7, 7, 1024)       3228864   \n",
            " nal)                                                            \n",
            "                                                                 \n",
            " global_average_pooling2d_1   (None, 1024)             0         \n",
            " (GlobalAveragePooling2D)                                        \n",
            "                                                                 \n",
            " dense_1 (Dense)             (None, 1)                 1025      \n",
            "                                                                 \n",
            "=================================================================\n",
            "Total params: 3,229,889\n",
            "Trainable params: 1,025\n",
            "Non-trainable params: 3,228,864\n",
            "_________________________________________________________________\n"
          ]
        }
      ]
    }
  ]
}